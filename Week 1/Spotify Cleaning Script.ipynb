{
 "cells": [
  {
   "cell_type": "markdown",
   "metadata": {},
   "source": [
    "Assumption: we will treat all derivations of a song as different songs"
   ]
  },
  {
   "cell_type": "code",
   "execution_count": 23,
   "metadata": {},
   "outputs": [],
   "source": [
    "import pandas as pd\n",
    "pd.options.display.max_columns = 99"
   ]
  },
  {
   "cell_type": "code",
   "execution_count": 24,
   "metadata": {},
   "outputs": [],
   "source": [
    "data = pd.read_excel('Taylor Swift Spotify Data - Original.xlsx')"
   ]
  },
  {
   "cell_type": "code",
   "execution_count": 25,
   "metadata": {
    "scrolled": true
   },
   "outputs": [
    {
     "name": "stdout",
     "output_type": "stream",
     "text": [
      "484\n",
      "(1265, 36)\n"
     ]
    },
    {
     "data": {
      "text/plain": [
       "array(['Lavender Haze', 'Maroon', 'Anti-Hero',\n",
       "       'Snow On The Beach (feat. Lana Del Rey)',\n",
       "       \"You're On Your Own, Kid\", 'Midnight Rain', 'Question...?',\n",
       "       'Vigilante Shit', 'Bejeweled', 'Labyrinth', 'Karma',\n",
       "       'Sweet Nothing', 'Mastermind', 'The Great War',\n",
       "       'Bigger Than The Whole Sky', 'Paris', 'High Infidelity', 'Glitch',\n",
       "       \"Would've, Could've, Should've\", 'Dear Reader',\n",
       "       \"State Of Grace (Taylor's Version)\", \"Red (Taylor's Version)\",\n",
       "       \"Treacherous (Taylor's Version)\",\n",
       "       \"I Knew You Were Trouble (Taylor's Version)\",\n",
       "       \"All Too Well (Taylor's Version)\", \"22 (Taylor's Version)\",\n",
       "       \"I Almost Do (Taylor's Version)\",\n",
       "       \"We Are Never Ever Getting Back Together (Taylor's Version)\",\n",
       "       \"Stay Stay Stay (Taylor's Version)\",\n",
       "       'The Last Time (feat. Gary Lightbody of Snow Patrol) (Taylor‚Äôs Version)',\n",
       "       \"Holy Ground (Taylor's Version)\",\n",
       "       \"Sad Beautiful Tragic (Taylor's Version)\",\n",
       "       \"The Lucky One (Taylor's Version)\",\n",
       "       'Everything Has Changed (feat. Ed Sheeran) (Taylor‚Äôs Version)',\n",
       "       \"Starlight (Taylor's Version)\", \"Begin Again (Taylor's Version)\",\n",
       "       \"The Moment I Knew (Taylor's Version)\",\n",
       "       \"Come Back...Be Here (Taylor's Version)\",\n",
       "       \"Girl At Home (Taylor's Version)\",\n",
       "       \"State Of Grace (Acoustic Version) (Taylor's Version)\",\n",
       "       \"Ronan (Taylor's Version)\",\n",
       "       \"Better Man (Taylor's Version) (From The Vault)\",\n",
       "       'Nothing New (feat. Phoebe Bridgers) (Taylor‚Äôs Version) (From The Vault)',\n",
       "       \"Babe (Taylor's Version) (From The Vault)\",\n",
       "       \"Message In A Bottle (Taylor's Version) (From The Vault)\",\n",
       "       'I Bet You Think About Me (feat. Chris Stapleton) (Taylor‚Äôs Version) (From The Vault)',\n",
       "       \"Forever Winter (Taylor's Version) (From The Vault)\",\n",
       "       'Run (feat. Ed Sheeran) (Taylor‚Äôs Version) (From The Vault)',\n",
       "       \"The Very First Night (Taylor's Version) (From The Vault)\",\n",
       "       \"All Too Well (10 Minute Version) (Taylor's Version) (From The Vault)\",\n",
       "       'Fearless (Taylor‚Äôs Version)', 'Fifteen (Taylor‚Äôs Version)',\n",
       "       'Love Story (Taylor‚Äôs Version)',\n",
       "       'Hey Stephen (Taylor‚Äôs Version)',\n",
       "       'White Horse (Taylor‚Äôs Version)',\n",
       "       'You Belong With Me (Taylor‚Äôs Version)',\n",
       "       'Breathe (feat. Colbie Caillat) (Taylor‚Äôs Version)',\n",
       "       'Tell Me Why (Taylor‚Äôs Version)',\n",
       "       'You‚Äôre Not Sorry (Taylor‚Äôs Version)',\n",
       "       'The Way I Loved You (Taylor‚Äôs Version)',\n",
       "       'Forever & Always (Taylor‚Äôs Version)',\n",
       "       'The Best Day (Taylor‚Äôs Version)', 'Change (Taylor‚Äôs Version)',\n",
       "       'Jump Then Fall (Taylor‚Äôs Version)',\n",
       "       'Untouchable (Taylor‚Äôs Version)',\n",
       "       'Forever & Always (Piano Version) (Taylor‚Äôs Version)',\n",
       "       'Come In With The Rain (Taylor‚Äôs Version)',\n",
       "       'Superstar (Taylor‚Äôs Version)',\n",
       "       'The Other Side Of The Door (Taylor‚Äôs Version)',\n",
       "       'Today Was A Fairytale (Taylor‚Äôs Version)',\n",
       "       'You All Over Me (feat. Maren Morris) (Taylor‚Äôs Version) (From The Vault)',\n",
       "       'Mr. Perfectly Fine (Taylor‚Äôs Version) (From The Vault)',\n",
       "       'We Were Happy (Taylor‚Äôs Version) (From The Vault)',\n",
       "       'That‚Äôs When (feat. Keith Urban) (Taylor‚Äôs Version) (From The Vault)',\n",
       "       'Don‚Äôt You (Taylor‚Äôs Version) (From The Vault)',\n",
       "       'Bye Bye Baby (Taylor‚Äôs Version) (From The Vault)', 'willow',\n",
       "       'champagne problems', 'gold rush', '‚Äòtis the damn season',\n",
       "       'tolerate it', 'no body, no crime (feat. HAIM)', 'happiness',\n",
       "       'dorothea', 'coney island (feat. The National)', 'ivy',\n",
       "       'cowboy like me', 'long story short', 'marjorie', 'closure',\n",
       "       'evermore (feat. Bon Iver)',\n",
       "       'right where you left me - bonus track',\n",
       "       'it‚Äôs time to go - bonus track', 'the 1', 'cardigan',\n",
       "       'the last great american dynasty', 'exile (feat. Bon Iver)',\n",
       "       'my tears ricochet', 'mirrorball', 'seven', 'august',\n",
       "       'this is me trying', 'illicit affairs', 'invisible string',\n",
       "       'mad woman', 'epiphany', 'betty', 'peace', 'hoax',\n",
       "       'the lakes - bonus track', 'the 1 - the long pond studio sessions',\n",
       "       'cardigan - the long pond studio sessions',\n",
       "       'the last great american dynasty - the long pond studio sessions',\n",
       "       'exile (feat. Bon Iver) - the long pond studio sessions',\n",
       "       'my tears ricochet - the long pond studio sessions',\n",
       "       'mirrorball - the long pond studio sessions',\n",
       "       'seven - the long pond studio sessions',\n",
       "       'august - the long pond studio sessions',\n",
       "       'this is me trying - the long pond studio sessions',\n",
       "       'illicit affairs - the long pond studio sessions',\n",
       "       'invisible string - the long pond studio sessions',\n",
       "       'mad woman - the long pond studio sessions',\n",
       "       'epiphany - the long pond studio sessions',\n",
       "       'betty - the long pond studio sessions',\n",
       "       'peace - the long pond studio sessions',\n",
       "       'hoax - the long pond studio sessions',\n",
       "       'the lakes - the long pond studio sessions',\n",
       "       'I Forgot That You Existed', 'Cruel Summer', 'Lover', 'The Man',\n",
       "       'The Archer', 'I Think He Knows',\n",
       "       'Miss Americana & The Heartbreak Prince', 'Paper Rings',\n",
       "       'Cornelia Street', 'Death By A Thousand Cuts', 'London Boy',\n",
       "       'Soon You‚Äôll Get Better (feat. The Chicks)', 'False God',\n",
       "       'You Need To Calm Down', 'Afterglow',\n",
       "       'ME! (feat. Brendon Urie of Panic! At The Disco)',\n",
       "       'It‚Äôs Nice To Have A Friend', 'Daylight',\n",
       "       '...Ready For It? - Karaoke Version', 'End Game - Karaoke Version',\n",
       "       'I Did Something Bad - Karaoke Version',\n",
       "       \"Don't Blame Me - Karaoke Version\", 'Delicate - Karaoke Version',\n",
       "       'Look What You Made Me Do - Karaoke Version',\n",
       "       'So It Goes... - Karaoke Version', 'Gorgeous - Karaoke Version',\n",
       "       'Getaway Car - Karaoke Version',\n",
       "       'King Of My Heart - Karaoke Version',\n",
       "       'Dancing With Our Hands Tied - Karaoke Version',\n",
       "       'Dress - Karaoke Version',\n",
       "       \"This Is Why We Can't Have Nice Things - Karaoke Version\",\n",
       "       'Call It What You Want - Karaoke Version',\n",
       "       \"New Year's Day - Karaoke Version\", '...Ready For It?', 'End Game',\n",
       "       'I Did Something Bad', 'Don‚Äôt Blame Me', 'Delicate',\n",
       "       'Look What You Made Me Do', 'So It Goes...', 'Gorgeous',\n",
       "       'Getaway Car', 'King Of My Heart', 'Dancing With Our Hands Tied',\n",
       "       'Dress', \"This Is Why We Can't Have Nice Things\",\n",
       "       'Call It What You Want', 'New Year‚Äôs Day',\n",
       "       '‚Ä¶Ready For It? - Commentary', 'End Game - Commentary',\n",
       "       'I Did Something Bad - Commentary', \"Don't Blame Me - Commentary\",\n",
       "       'Delicate - Commentary', 'Look What You Made Me Do - Commentary',\n",
       "       'So It Goes‚Ä¶ - Commentary', 'Gorgeous - Commentary',\n",
       "       'Getaway Car - Commentary', 'King Of My Heart - Commentary',\n",
       "       'Dancing With Our Hands Tied - Commentary', 'Dress - Commentary',\n",
       "       \"This Is Why We Can't Have Nice Things - Commentary\",\n",
       "       'Call It What You Want - Commentary',\n",
       "       \"New Year's Day - Commentary\", 'Radio Outro - Commentary',\n",
       "       'All Too Well', 'Wildest Dreams', 'The Best Day', 'Red',\n",
       "       'Holy Ground', 'Teardrops On My Guitar - Radio Single Remix',\n",
       "       'Our Song', 22, 'I Knew You Were Trouble.',\n",
       "       'I Don‚Äôt Wanna Live Forever (Fifty Shades Darker)', 'Mean',\n",
       "       'How You Get The Girl', 'Fifteen', 'Mine', 'Sparks Fly',\n",
       "       'State Of Grace', 'Haunted', 'Never Grow Up', 'Treacherous',\n",
       "       'Babe', 'Welcome To New York', 'Fearless', 'Enchanted', 'Change',\n",
       "       'Ours', 'Out Of The Woods', 'Come Back...Be Here',\n",
       "       'A Place in this World', 'This Love', 'The Lucky One', 'Invisible',\n",
       "       'Breathe', 'Better Man', 'Jump Then Fall', 'Begin Again',\n",
       "       'Tied Together with a Smile', 'The Story Of Us',\n",
       "       'Forever & Always', 'Hey Stephen', 'Speak Now', 'Wonderland',\n",
       "       'White Horse', \"I'm Only Me When I'm With You\", 'Starlight',\n",
       "       'I Know Places', 'Welcome To New York - Karaoke Version',\n",
       "       'Blank Space - Karaoke Version', 'Style - Karaoke Version',\n",
       "       'Out Of The Woods - Karaoke Version',\n",
       "       'All You Had To Do Was Stay - Karaoke Version',\n",
       "       'Shake It Off - Karaoke Version',\n",
       "       'I Wish You Would - Karaoke Version',\n",
       "       'Bad Blood - Karaoke Version', 'Wildest Dreams - Karaoke Version',\n",
       "       'How You Get The Girl - Karaoke Version',\n",
       "       'This Love - Karaoke Version', 'I Know Places - Karaoke Version',\n",
       "       'Clean - Karaoke Version', 'Wonderland - Karaoke Version',\n",
       "       'You Are In Love - Karaoke Version',\n",
       "       'New Romantics - Karaoke Version', 'Blank Space', 'Style',\n",
       "       'All You Had To Do Was Stay', 'Shake It Off', 'I Wish You Would',\n",
       "       'Bad Blood', 'Clean', 'Welcome to New York - Commentary',\n",
       "       'Blank Space - Commentary', 'Style - Commentary',\n",
       "       'Out Of The Woods - Commentary',\n",
       "       'All You Had To Do Was Stay - Commentary',\n",
       "       'Shake It Off - Commentary', 'I Wish You Would - Commentary',\n",
       "       'Bad Blood - Commentary', 'Wildest Dreams - Commentary',\n",
       "       'How You Get The Girl - Commentary', 'This Love - Commentary',\n",
       "       'I Know Places - Commentary', 'Clean - Commentary',\n",
       "       'You Are In Love', 'New Romantics', 'I Know Places - Voice Memo',\n",
       "       'I Wish You Would - Voice Memo', 'Blank Space - Voice Memo',\n",
       "       'I Almost Do', 'We Are Never Ever Getting Back Together',\n",
       "       'Stay Stay Stay', 'The Last Time', 'Sad Beautiful Tragic',\n",
       "       'Everything Has Changed', 'The Moment I Knew', 'Girl At Home',\n",
       "       'Treacherous - Original Demo Recording',\n",
       "       'Red - Original Demo Recording', 'State Of Grace - Acoustic',\n",
       "       'State Of Grace - Commentary', 'Red - Commentary',\n",
       "       'Treacherous - Commentary',\n",
       "       'I Knew You Were Trouble. - Commentary',\n",
       "       'All Too Well - Commentary', '22 - Commentary',\n",
       "       'I Almost Do - Commentary',\n",
       "       'We Are Never Ever Getting Back Together - Commentary',\n",
       "       'Stay Stay Stay - Commentary', 'The Last Time - Commentary',\n",
       "       'Holy Ground - Commentary', 'Sad Beautiful Tragic - Commentary',\n",
       "       'The Lucky One - Commentary',\n",
       "       'Everything Has Changed - Commentary', 'Starlight - Commentary',\n",
       "       'Begin Again - Commentary', 'State Of Grace - Karaoke Version',\n",
       "       'Red - Karaoke Version', 'Treacherous - Karaoke Version',\n",
       "       'I Knew You Were Trouble. - Karaoke Version',\n",
       "       'All Too Well - Karaoke Version', '22 - Karaoke Version',\n",
       "       'I Almost Do - Karaoke Version',\n",
       "       'We Are Never Ever Getting Back Together - Karaoke Version',\n",
       "       'Stay Stay Stay - Karaoke Version',\n",
       "       'The Last Time - Karaoke Version', 'Holy Ground - Karaoke Version',\n",
       "       'Sad Beautiful Tragic - Karaoke Version',\n",
       "       'The Lucky One - Karaoke Version',\n",
       "       'Everything Has Changed - Karaoke Version',\n",
       "       'Starlight - Karaoke Version', 'Begin Again - Karaoke Version',\n",
       "       'State Of Grace - Instrumental With Background Vocals',\n",
       "       'Red - Instrumental With Background Vocals',\n",
       "       'Treacherous - Instrumental With Background Vocals',\n",
       "       'I Knew You Were Trouble. - Instrumental With Background Vocals',\n",
       "       'All Too Well - Instrumental With Background Vocals',\n",
       "       '22 - Instrumental With Background Vocals',\n",
       "       'I Almost Do - Instrumental With Background Vocals',\n",
       "       'We Are Never Ever Getting Back Together - Instrumental With Background Vocals',\n",
       "       'Stay Stay Stay - Instrumental With Background Vocals',\n",
       "       'The Last Time - Instrumental With Background Vocals',\n",
       "       'Holy Ground - Instrumental With Background Vocals',\n",
       "       'Sad Beautiful Tragic - Instrumental With Background Vocals',\n",
       "       'The Lucky One - Instrumental With Background Vocals',\n",
       "       'Everything Has Changed - Instrumental With Background Vocals',\n",
       "       'Starlight - Instrumental With Background Vocals',\n",
       "       'Begin Again - Instrumental With Background Vocals',\n",
       "       'Mine - POP Mix', 'Back To December', 'Dear John',\n",
       "       'Better Than Revenge', 'Innocent', 'Last Kiss', 'Long Live',\n",
       "       'Sparks Fly - Live/2011', 'Mine - Live/2011',\n",
       "       'The Story Of Us - Live', 'Mean - Live/2011', 'Ours - Live/2011',\n",
       "       \"Back To December/Apologize/You're Not Sorry - Live/2011/Medley\",\n",
       "       'Better Than Revenge - Live/2011', 'Speak Now - Live/2011',\n",
       "       'Last Kiss - Live/2011', 'Drops Of Jupiter - Live/2011',\n",
       "       'Bette Davis Eyes - Live/2011', 'I Want You Back - Live/2011',\n",
       "       'Dear John - Live/2011', 'Enchanted - Live/2011',\n",
       "       'Haunted - Live/2011', 'Long Live - Live/2011',\n",
       "       'Mine - Commentary', 'Sparks Fly - Commentary',\n",
       "       'Back To December - Commentary', 'Speak Now - Commentary',\n",
       "       'Dear John - Commentary', 'Mean - Commentary',\n",
       "       'The Story Of Us - Commentary', 'Never Grow Up - Commentary',\n",
       "       'Enchanted - Commentary', 'Better Than Revenge - Commentary',\n",
       "       'Innocent - Commentary', 'Haunted - Commentary',\n",
       "       'Last Kiss - Commentary', 'Long Live - Commentary',\n",
       "       'Mine - Instrumental With Background Vocals',\n",
       "       'Sparks Fly - Instrumental With Background Vocals',\n",
       "       'Back To December - Instrumental With Background Vocals',\n",
       "       'Speak Now - Instrumental With Background Vocals',\n",
       "       'Dear John - Instrumental With Background Vocals',\n",
       "       'Mean - Instrumental With Background Vocals',\n",
       "       'The Story Of Us - Instrumental With Background Vocals',\n",
       "       'Never Grow Up - Instrumental With Background Vocals',\n",
       "       'Enchanted - Instrumental With Background Vocals',\n",
       "       'Better Than Revenge - Instrumental With Background Vocals',\n",
       "       'Innocent - Instrumental With Background Vocals',\n",
       "       'Haunted - Instrumental With Background Vocals',\n",
       "       'Last Kiss - Instrumental With Background Vocals',\n",
       "       'Long Live - Instrumental With Background Vocals',\n",
       "       'If This Was A Movie', 'Superman', 'Back To December - Acoustic',\n",
       "       'Haunted - Acoustic Version', 'Love Story', 'You Belong With Me',\n",
       "       'Tell Me Why', \"You're Not Sorry\", 'The Way I Loved You',\n",
       "       'Teardrops On My Guitar', \"Should've Said No\", 'Beautiful Eyes',\n",
       "       'Picture To Burn - Radio Edit', 'I Heart ?',\n",
       "       'Love Story - J Stax Radio Mix', 'Our Song - International Mix',\n",
       "       'Teardrops On My Guitar - International Mix',\n",
       "       \"Should've Said No - International Mix\", 'Fearless - Commentary',\n",
       "       'Fifteen - Commentary', 'Love Story - Commentary',\n",
       "       'Hey Stephen - Commentary', 'White Horse - Commentary',\n",
       "       'You Belong With Me - Commentary', 'Breathe - Commentary',\n",
       "       'Tell Me Why - Commentary', \"You're Not Sorry - Commentary\",\n",
       "       'The Way I Loved You - Commentary',\n",
       "       'Forever & Always - Commentary', 'The Best Day - Commentary',\n",
       "       'Change - Commentary', 'Fearless - Instrumental with BGV',\n",
       "       'Fifteen - Instrumental with BGV',\n",
       "       'Love Story - Instrumental with BGV',\n",
       "       'Hey Stephen - Instrumental with BGV',\n",
       "       'White Horse - Instrumental with BGV',\n",
       "       'You Belong With Me - Instrumental with BGV',\n",
       "       'Breathe - Instrumental only, no BV',\n",
       "       'Tell Me Why - Instrumental with BGV',\n",
       "       \"You're Not Sorry - Instrumental with BGV\",\n",
       "       'The Way I Loved You - Instrumental with BGV',\n",
       "       'Forever & Always - Instrumental with BGV',\n",
       "       'The Best Day - Instrumental with BGV',\n",
       "       'Change - Instrumental with BGV', 'Untouchable',\n",
       "       'Forever & Always - Piano Version', 'Come In With The Rain',\n",
       "       'SuperStar', 'The Other Side Of The Door',\n",
       "       'Love Story - Live From Clear Channel Stripped 2008',\n",
       "       'Fearless - Live From Clear Channel Stripped 2008',\n",
       "       'Beautiful Eyes - Live From Clear Channel Stripped 2008',\n",
       "       'Untouchable - Live From Clear Channel Stripped 2008',\n",
       "       'Teardrops On My Guitar - Live From Clear Channel Stripped 2008',\n",
       "       'Picture To Burn - Live From Clear Channel Stripped 2008',\n",
       "       \"Should've Said No - Live From Clear Channel Stripped 2008\",\n",
       "       'Change - Live From Clear Channel Stripped 2008', 'Tim McGraw',\n",
       "       'Picture To Burn', 'Cold As You', 'The Outside', 'Stay Beautiful',\n",
       "       \"Mary's Song (Oh My My My)\", 'A Perfectly Good Heart',\n",
       "       'Teardrops on My Guitar - Pop Version', 'Tim McGraw - Commentary',\n",
       "       'Picture To Burn - Commentary',\n",
       "       'Teardrops On My Guitar - Radio Single Remix / Commentary',\n",
       "       'A Place In This World - Commentary', 'A Place In This World',\n",
       "       'Cold As You - Commentary', 'The Outside - Commentary',\n",
       "       'Tied Together With A Smile - Commentary',\n",
       "       'Tied Together With A Smile', 'Stay Beautiful - Commentary',\n",
       "       'Should‚Äôve Said No - Commentary',\n",
       "       \"Mary's Song (Oh My My My) - Commentary\", 'Our Song - Commentary',\n",
       "       'I‚Äôm Only Me When I‚Äôm With You - Commentary',\n",
       "       'Invisible - Commentary', 'A Perfectly Good Heart - Commentary',\n",
       "       'Teardrops On My Guitar - Pop Version / Commentary',\n",
       "       'Teardrops On My Guitar - Pop Version',\n",
       "       'Tim McGraw - Instrumental w/ BG vocals',\n",
       "       'Picture To Burn - Instrumental w/ BG vocals',\n",
       "       'Teardrops On My Guitar - Instrumental w/ BG vocals',\n",
       "       'A Place In This World - Instrumental w/ BG vocals',\n",
       "       'Cold As You - Instrumental w/ BG vocals',\n",
       "       'The Outside - Instrumental w/ BG vocals',\n",
       "       'Tied Together With A Smile - Instrumental w/ BG vocals',\n",
       "       'Stay Beautiful - Instrumental w/ BG vocals',\n",
       "       \"Should've Said No - Instrumental w/ BG vocals\",\n",
       "       \"Mary's Song (Oh My My My) - Instrumental w/ BG vocals\",\n",
       "       'Our Song - Instrumental w/ BG vocals',\n",
       "       \"I'm Only Me When I'm With You - Instrumental w/ BG vocals\",\n",
       "       'Invisible - Instrumental w/ BG vocals',\n",
       "       'A Perfectly Good Heart - Instrumental w/ BG vocals'], dtype=object)"
      ]
     },
     "execution_count": 25,
     "metadata": {},
     "output_type": "execute_result"
    }
   ],
   "source": [
    "print(data['track_name'].nunique())\n",
    "print(data.shape)\n",
    "data['track_name'].unique()"
   ]
  },
  {
   "cell_type": "code",
   "execution_count": 26,
   "metadata": {
    "scrolled": false
   },
   "outputs": [
    {
     "name": "stdout",
     "output_type": "stream",
     "text": [
      "285\n"
     ]
    }
   ],
   "source": [
    "duplicated_songs = data[data['track_name'].duplicated()]['track_name'].unique()\n",
    "duplicated_songs = list(duplicated_songs)\n",
    "print(len(duplicated_songs))"
   ]
  },
  {
   "cell_type": "code",
   "execution_count": 27,
   "metadata": {},
   "outputs": [
    {
     "data": {
      "text/plain": [
       "1"
      ]
     },
     "execution_count": 27,
     "metadata": {},
     "output_type": "execute_result"
    }
   ],
   "source": [
    "data[data['track_name']=='Maroon'].first_valid_index()\n",
    "# https://www.geeksforgeeks.org/python-pandas-dataframe-first_valid_index/#:~:text=first_valid_index()%20function%20returns%20index,non%2DNA%2Fnull%20value."
   ]
  },
  {
   "cell_type": "code",
   "execution_count": 28,
   "metadata": {},
   "outputs": [],
   "source": [
    "index_songs_to_keep = []\n",
    "for song in duplicated_songs: \n",
    "    \n",
    "    sub = data[data['track_name'] == song]\n",
    "    first_index = sub.first_valid_index()\n",
    "    \n",
    "    index_songs_to_keep.append(first_index)"
   ]
  },
  {
   "cell_type": "code",
   "execution_count": 29,
   "metadata": {},
   "outputs": [
    {
     "data": {
      "text/plain": [
       "285"
      ]
     },
     "execution_count": 29,
     "metadata": {},
     "output_type": "execute_result"
    }
   ],
   "source": [
    "len(index_songs_to_keep)"
   ]
  },
  {
   "cell_type": "code",
   "execution_count": 30,
   "metadata": {},
   "outputs": [],
   "source": [
    "not_duplicated = data[~data['track_name'].isin(duplicated_songs)]"
   ]
  },
  {
   "cell_type": "code",
   "execution_count": 31,
   "metadata": {},
   "outputs": [],
   "source": [
    "cleaned_dupes = data.iloc[index_songs_to_keep]"
   ]
  },
  {
   "cell_type": "code",
   "execution_count": 32,
   "metadata": {},
   "outputs": [],
   "source": [
    "cleaned_data = not_duplicated.append(cleaned_dupes).reset_index(drop=True)"
   ]
  },
  {
   "cell_type": "code",
   "execution_count": 33,
   "metadata": {},
   "outputs": [
    {
     "data": {
      "text/plain": [
       "484"
      ]
     },
     "execution_count": 33,
     "metadata": {},
     "output_type": "execute_result"
    }
   ],
   "source": [
    "cleaned_data['track_name'].nunique()"
   ]
  },
  {
   "cell_type": "code",
   "execution_count": 34,
   "metadata": {},
   "outputs": [
    {
     "data": {
      "text/plain": [
       "(484, 36)"
      ]
     },
     "execution_count": 34,
     "metadata": {},
     "output_type": "execute_result"
    }
   ],
   "source": [
    "cleaned_data.shape"
   ]
  },
  {
   "cell_type": "code",
   "execution_count": 36,
   "metadata": {},
   "outputs": [],
   "source": [
    "cleaned_data.to_excel(\"Taylor Swift Spotify Data - Clean.xlsx\", index=False)"
   ]
  },
  {
   "cell_type": "code",
   "execution_count": null,
   "metadata": {},
   "outputs": [],
   "source": []
  }
 ],
 "metadata": {
  "kernelspec": {
   "display_name": "Python 3",
   "language": "python",
   "name": "python3"
  },
  "language_info": {
   "codemirror_mode": {
    "name": "ipython",
    "version": 3
   },
   "file_extension": ".py",
   "mimetype": "text/x-python",
   "name": "python",
   "nbconvert_exporter": "python",
   "pygments_lexer": "ipython3",
   "version": "3.8.5"
  }
 },
 "nbformat": 4,
 "nbformat_minor": 4
}
